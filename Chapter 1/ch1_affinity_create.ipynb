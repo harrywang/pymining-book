{
 "metadata": {
  "name": ""
 },
 "nbformat": 3,
 "nbformat_minor": 0,
 "worksheets": [
  {
   "cells": [
    {
     "cell_type": "code",
     "collapsed": false,
     "input": [
      "import numpy as np"
     ],
     "language": "python",
     "metadata": {},
     "outputs": [],
     "prompt_number": 1
    },
    {
     "cell_type": "code",
     "collapsed": false,
     "input": [
      "X = np.zeros((100, 5), dtype='bool')\n",
      "features = [\"bread\", \"milk\", \"cheese\", \"apples\", \"bananas\"]"
     ],
     "language": "python",
     "metadata": {},
     "outputs": [],
     "prompt_number": 2
    },
    {
     "cell_type": "code",
     "collapsed": false,
     "input": [
      "for i in range(X.shape[0]):\n",
      "    if np.random.random() < 0.3:\n",
      "        # A bread winner\n",
      "        X[i][0] = 1\n",
      "        if np.random.random() < 0.5:\n",
      "            # Who likes milk\n",
      "            X[i][1] = 1\n",
      "        if np.random.random() < 0.2:\n",
      "            # Who likes cheese\n",
      "            X[i][2] = 1\n",
      "        if np.random.random() < 0.25:\n",
      "            # Who likes apples\n",
      "            X[i][3] = 1\n",
      "        if np.random.random() < 0.5:\n",
      "            # Who likes bananas\n",
      "            X[i][4] = 1\n",
      "    else:\n",
      "        # Not a bread winner\n",
      "        if np.random.random() < 0.5:\n",
      "            # Who likes milk\n",
      "            X[i][1] = 1\n",
      "            if np.random.random() < 0.2:\n",
      "                # Who likes cheese\n",
      "                X[i][2] = 1\n",
      "            if np.random.random() < 0.25:\n",
      "                # Who likes apples\n",
      "                X[i][3] = 1\n",
      "            if np.random.random() < 0.5:\n",
      "                # Who likes bananas\n",
      "                X[i][4] = 1\n",
      "        else:\n",
      "            if np.random.random() < 0.8:\n",
      "                # Who likes cheese\n",
      "                X[i][2] = 1\n",
      "            if np.random.random() < 0.6:\n",
      "                # Who likes apples\n",
      "                X[i][3] = 1\n",
      "            if np.random.random() < 0.7:\n",
      "                # Who likes bananas\n",
      "                X[i][4] = 1\n",
      "    if X[i].sum() == 0:\n",
      "        X[i][4] = 1  # Must buy something, so gets bananas\n"
     ],
     "language": "python",
     "metadata": {},
     "outputs": [],
     "prompt_number": 3
    },
    {
     "cell_type": "code",
     "collapsed": false,
     "input": [
      "print(X[:5])"
     ],
     "language": "python",
     "metadata": {},
     "outputs": [
      {
       "output_type": "stream",
       "stream": "stdout",
       "text": [
        "[[False False  True  True  True]\n",
        " [ True  True False  True False]\n",
        " [ True False  True  True False]\n",
        " [False False  True  True  True]\n",
        " [False  True False False  True]]\n"
       ]
      }
     ],
     "prompt_number": 5
    },
    {
     "cell_type": "code",
     "collapsed": false,
     "input": [
      "np.savetxt(\"affinity_dataset.txt\", X, fmt='%d')"
     ],
     "language": "python",
     "metadata": {},
     "outputs": [],
     "prompt_number": 7
    },
    {
     "cell_type": "code",
     "collapsed": false,
     "input": [],
     "language": "python",
     "metadata": {},
     "outputs": []
    }
   ],
   "metadata": {}
  }
 ]
}