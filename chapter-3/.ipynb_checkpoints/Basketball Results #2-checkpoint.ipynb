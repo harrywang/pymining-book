{
 "cells": [
  {
   "cell_type": "code",
   "execution_count": 5,
   "metadata": {
    "collapsed": false
   },
   "outputs": [],
   "source": [
    "import os\n",
    "import numpy as np\n",
    "import pandas as pd\n",
    "home_folder = os.path.expanduser(\"~\")\n",
    "data_folder = os.path.join(home_folder, \"Data\", \"basketball\")\n",
    "data_filename = os.path.join(data_folder, \"leagues_NBA_2014_games_games.csv\")"
   ]
  },
  {
   "cell_type": "code",
   "execution_count": 19,
   "metadata": {
    "collapsed": false
   },
   "outputs": [
    {
     "data": {
      "text/html": [
       "<div style=\"max-height:1000px;max-width:1500px;overflow:auto;\">\n",
       "<table border=\"1\" class=\"dataframe\">\n",
       "  <thead>\n",
       "    <tr style=\"text-align: right;\">\n",
       "      <th></th>\n",
       "      <th></th>\n",
       "      <th></th>\n",
       "      <th></th>\n",
       "      <th></th>\n",
       "      <th></th>\n",
       "      <th></th>\n",
       "      <th></th>\n",
       "    </tr>\n",
       "  </thead>\n",
       "  <tbody>\n",
       "    <tr>\n",
       "      <th>Date</th>\n",
       "      <th>NaN</th>\n",
       "      <th>Visitor/Neutral</th>\n",
       "      <th>PTS</th>\n",
       "      <th>Home/Neutral</th>\n",
       "      <th>PTS</th>\n",
       "      <th>NaN</th>\n",
       "      <th>Notes</th>\n",
       "    </tr>\n",
       "    <tr>\n",
       "      <th rowspan=\"3\" valign=\"top\">Tue Oct 29 2013</th>\n",
       "      <th rowspan=\"3\" valign=\"top\">Box Score</th>\n",
       "      <th>Orlando Magic</th>\n",
       "      <th>87</th>\n",
       "      <th>Indiana Pacers</th>\n",
       "      <th>97</th>\n",
       "      <th>NaN</th>\n",
       "      <th>NaN</th>\n",
       "    </tr>\n",
       "    <tr>\n",
       "      <th>Los Angeles Clippers</th>\n",
       "      <th>103</th>\n",
       "      <th>Los Angeles Lakers</th>\n",
       "      <th>116</th>\n",
       "      <th>NaN</th>\n",
       "      <th>NaN</th>\n",
       "    </tr>\n",
       "    <tr>\n",
       "      <th>Chicago Bulls</th>\n",
       "      <th>95</th>\n",
       "      <th>Miami Heat</th>\n",
       "      <th>107</th>\n",
       "      <th>NaN</th>\n",
       "      <th>NaN</th>\n",
       "    </tr>\n",
       "    <tr>\n",
       "      <th>Wed Oct 30 2013</th>\n",
       "      <th>Box Score</th>\n",
       "      <th>Brooklyn Nets</th>\n",
       "      <th>94</th>\n",
       "      <th>Cleveland Cavaliers</th>\n",
       "      <th>98</th>\n",
       "      <th>NaN</th>\n",
       "      <th>NaN</th>\n",
       "    </tr>\n",
       "  </tbody>\n",
       "</table>\n",
       "</div>"
      ],
      "text/plain": [
       "Empty DataFrame\n",
       "Columns: []\n",
       "Index: [(Date, nan, Visitor/Neutral, PTS, Home/Neutral, PTS, nan, Notes), (Tue Oct 29 2013, Box Score, Orlando Magic, 87, Indiana Pacers, 97, nan, nan), (Tue Oct 29 2013, Box Score, Los Angeles Clippers, 103, Los Angeles Lakers, 116, nan, nan), (Tue Oct 29 2013, Box Score, Chicago Bulls, 95, Miami Heat, 107, nan, nan), (Wed Oct 30 2013, Box Score, Brooklyn Nets, 94, Cleveland Cavaliers, 98, nan, nan)]"
      ]
     },
     "execution_count": 19,
     "metadata": {},
     "output_type": "execute_result"
    }
   ],
   "source": [
    "results = pd.read_csv(data_filename)\n",
    "results.ix[:5]"
   ]
  },
  {
   "cell_type": "code",
   "execution_count": 7,
   "metadata": {
    "collapsed": false
   },
   "outputs": [
    {
     "name": "stdout",
     "output_type": "stream",
     "text": [
      "(1230, 8)\n"
     ]
    },
    {
     "data": {
      "text/html": [
       "<div style=\"max-height:1000px;max-width:1500px;overflow:auto;\">\n",
       "<table border=\"1\" class=\"dataframe\">\n",
       "  <thead>\n",
       "    <tr style=\"text-align: right;\">\n",
       "      <th></th>\n",
       "      <th>Date</th>\n",
       "      <th>Score Type</th>\n",
       "      <th>Visitor Team</th>\n",
       "      <th>VisitorPts</th>\n",
       "      <th>Home Team</th>\n",
       "      <th>HomePts</th>\n",
       "      <th>OT?</th>\n",
       "      <th>Notes</th>\n",
       "    </tr>\n",
       "  </thead>\n",
       "  <tbody>\n",
       "    <tr>\n",
       "      <th>0</th>\n",
       "      <td>2013-10-29</td>\n",
       "      <td> Box Score</td>\n",
       "      <td>        Orlando Magic</td>\n",
       "      <td>  87</td>\n",
       "      <td>      Indiana Pacers</td>\n",
       "      <td>  97</td>\n",
       "      <td> NaN</td>\n",
       "      <td> NaN</td>\n",
       "    </tr>\n",
       "    <tr>\n",
       "      <th>1</th>\n",
       "      <td>2013-10-29</td>\n",
       "      <td> Box Score</td>\n",
       "      <td> Los Angeles Clippers</td>\n",
       "      <td> 103</td>\n",
       "      <td>  Los Angeles Lakers</td>\n",
       "      <td> 116</td>\n",
       "      <td> NaN</td>\n",
       "      <td> NaN</td>\n",
       "    </tr>\n",
       "    <tr>\n",
       "      <th>2</th>\n",
       "      <td>2013-10-29</td>\n",
       "      <td> Box Score</td>\n",
       "      <td>        Chicago Bulls</td>\n",
       "      <td>  95</td>\n",
       "      <td>          Miami Heat</td>\n",
       "      <td> 107</td>\n",
       "      <td> NaN</td>\n",
       "      <td> NaN</td>\n",
       "    </tr>\n",
       "    <tr>\n",
       "      <th>3</th>\n",
       "      <td>2013-10-30</td>\n",
       "      <td> Box Score</td>\n",
       "      <td>        Brooklyn Nets</td>\n",
       "      <td>  94</td>\n",
       "      <td> Cleveland Cavaliers</td>\n",
       "      <td>  98</td>\n",
       "      <td> NaN</td>\n",
       "      <td> NaN</td>\n",
       "    </tr>\n",
       "    <tr>\n",
       "      <th>4</th>\n",
       "      <td>2013-10-30</td>\n",
       "      <td> Box Score</td>\n",
       "      <td>        Atlanta Hawks</td>\n",
       "      <td> 109</td>\n",
       "      <td>    Dallas Mavericks</td>\n",
       "      <td> 118</td>\n",
       "      <td> NaN</td>\n",
       "      <td> NaN</td>\n",
       "    </tr>\n",
       "    <tr>\n",
       "      <th>5</th>\n",
       "      <td>2013-10-30</td>\n",
       "      <td> Box Score</td>\n",
       "      <td>   Washington Wizards</td>\n",
       "      <td> 102</td>\n",
       "      <td>     Detroit Pistons</td>\n",
       "      <td> 113</td>\n",
       "      <td> NaN</td>\n",
       "      <td> NaN</td>\n",
       "    </tr>\n",
       "  </tbody>\n",
       "</table>\n",
       "</div>"
      ],
      "text/plain": [
       "        Date Score Type          Visitor Team  VisitorPts  \\\n",
       "0 2013-10-29  Box Score         Orlando Magic          87   \n",
       "1 2013-10-29  Box Score  Los Angeles Clippers         103   \n",
       "2 2013-10-29  Box Score         Chicago Bulls          95   \n",
       "3 2013-10-30  Box Score         Brooklyn Nets          94   \n",
       "4 2013-10-30  Box Score         Atlanta Hawks         109   \n",
       "5 2013-10-30  Box Score    Washington Wizards         102   \n",
       "\n",
       "             Home Team  HomePts  OT? Notes  \n",
       "0       Indiana Pacers       97  NaN   NaN  \n",
       "1   Los Angeles Lakers      116  NaN   NaN  \n",
       "2           Miami Heat      107  NaN   NaN  \n",
       "3  Cleveland Cavaliers       98  NaN   NaN  \n",
       "4     Dallas Mavericks      118  NaN   NaN  \n",
       "5      Detroit Pistons      113  NaN   NaN  "
      ]
     },
     "execution_count": 7,
     "metadata": {},
     "output_type": "execute_result"
    }
   ],
   "source": [
    "# Don't read the first row, as it is blank, and parse the date column as a date\n",
    "results = pd.read_csv(data_filename, parse_dates=[\"Date\"], skiprows=[0,])\n",
    "# Fix the name of the columns\n",
    "results.columns = [\"Date\", \"Score Type\", \"Visitor Team\", \"VisitorPts\", \"Home Team\", \"HomePts\", \"OT?\", \"Notes\"]\n",
    "print(results.shape)\n",
    "results.ix[:5]"
   ]
  },
  {
   "cell_type": "code",
   "execution_count": 8,
   "metadata": {
    "collapsed": false
   },
   "outputs": [
    {
     "data": {
      "text/html": [
       "<div style=\"max-height:1000px;max-width:1500px;overflow:auto;\">\n",
       "<table border=\"1\" class=\"dataframe\">\n",
       "  <thead>\n",
       "    <tr style=\"text-align: right;\">\n",
       "      <th></th>\n",
       "      <th>Date</th>\n",
       "      <th>Score Type</th>\n",
       "      <th>Visitor Team</th>\n",
       "      <th>VisitorPts</th>\n",
       "      <th>Home Team</th>\n",
       "      <th>HomePts</th>\n",
       "      <th>OT?</th>\n",
       "      <th>Notes</th>\n",
       "      <th>HomeWin</th>\n",
       "    </tr>\n",
       "  </thead>\n",
       "  <tbody>\n",
       "    <tr>\n",
       "      <th>0</th>\n",
       "      <td>2013-10-29</td>\n",
       "      <td> Box Score</td>\n",
       "      <td>        Orlando Magic</td>\n",
       "      <td>  87</td>\n",
       "      <td>      Indiana Pacers</td>\n",
       "      <td>  97</td>\n",
       "      <td> NaN</td>\n",
       "      <td> NaN</td>\n",
       "      <td> True</td>\n",
       "    </tr>\n",
       "    <tr>\n",
       "      <th>1</th>\n",
       "      <td>2013-10-29</td>\n",
       "      <td> Box Score</td>\n",
       "      <td> Los Angeles Clippers</td>\n",
       "      <td> 103</td>\n",
       "      <td>  Los Angeles Lakers</td>\n",
       "      <td> 116</td>\n",
       "      <td> NaN</td>\n",
       "      <td> NaN</td>\n",
       "      <td> True</td>\n",
       "    </tr>\n",
       "    <tr>\n",
       "      <th>2</th>\n",
       "      <td>2013-10-29</td>\n",
       "      <td> Box Score</td>\n",
       "      <td>        Chicago Bulls</td>\n",
       "      <td>  95</td>\n",
       "      <td>          Miami Heat</td>\n",
       "      <td> 107</td>\n",
       "      <td> NaN</td>\n",
       "      <td> NaN</td>\n",
       "      <td> True</td>\n",
       "    </tr>\n",
       "    <tr>\n",
       "      <th>3</th>\n",
       "      <td>2013-10-30</td>\n",
       "      <td> Box Score</td>\n",
       "      <td>        Brooklyn Nets</td>\n",
       "      <td>  94</td>\n",
       "      <td> Cleveland Cavaliers</td>\n",
       "      <td>  98</td>\n",
       "      <td> NaN</td>\n",
       "      <td> NaN</td>\n",
       "      <td> True</td>\n",
       "    </tr>\n",
       "    <tr>\n",
       "      <th>4</th>\n",
       "      <td>2013-10-30</td>\n",
       "      <td> Box Score</td>\n",
       "      <td>        Atlanta Hawks</td>\n",
       "      <td> 109</td>\n",
       "      <td>    Dallas Mavericks</td>\n",
       "      <td> 118</td>\n",
       "      <td> NaN</td>\n",
       "      <td> NaN</td>\n",
       "      <td> True</td>\n",
       "    </tr>\n",
       "    <tr>\n",
       "      <th>5</th>\n",
       "      <td>2013-10-30</td>\n",
       "      <td> Box Score</td>\n",
       "      <td>   Washington Wizards</td>\n",
       "      <td> 102</td>\n",
       "      <td>     Detroit Pistons</td>\n",
       "      <td> 113</td>\n",
       "      <td> NaN</td>\n",
       "      <td> NaN</td>\n",
       "      <td> True</td>\n",
       "    </tr>\n",
       "  </tbody>\n",
       "</table>\n",
       "</div>"
      ],
      "text/plain": [
       "        Date Score Type          Visitor Team  VisitorPts  \\\n",
       "0 2013-10-29  Box Score         Orlando Magic          87   \n",
       "1 2013-10-29  Box Score  Los Angeles Clippers         103   \n",
       "2 2013-10-29  Box Score         Chicago Bulls          95   \n",
       "3 2013-10-30  Box Score         Brooklyn Nets          94   \n",
       "4 2013-10-30  Box Score         Atlanta Hawks         109   \n",
       "5 2013-10-30  Box Score    Washington Wizards         102   \n",
       "\n",
       "             Home Team  HomePts  OT? Notes HomeWin  \n",
       "0       Indiana Pacers       97  NaN   NaN    True  \n",
       "1   Los Angeles Lakers      116  NaN   NaN    True  \n",
       "2           Miami Heat      107  NaN   NaN    True  \n",
       "3  Cleveland Cavaliers       98  NaN   NaN    True  \n",
       "4     Dallas Mavericks      118  NaN   NaN    True  \n",
       "5      Detroit Pistons      113  NaN   NaN    True  "
      ]
     },
     "execution_count": 8,
     "metadata": {},
     "output_type": "execute_result"
    }
   ],
   "source": [
    "results[\"HomeWin\"] = results[\"VisitorPts\"] < results[\"HomePts\"]\n",
    "# Our \"class values\"\n",
    "y_true = results[\"HomeWin\"].values\n",
    "results.ix[:5]"
   ]
  },
  {
   "cell_type": "code",
   "execution_count": 9,
   "metadata": {
    "collapsed": false
   },
   "outputs": [
    {
     "name": "stdout",
     "output_type": "stream",
     "text": [
      "Home Win percentage: 58.0%\n"
     ]
    }
   ],
   "source": [
    "print(\"Home Win percentage: {0:.1f}%\".format(100 * results[\"HomeWin\"].sum() / results[\"HomeWin\"].count()))"
   ]
  },
  {
   "cell_type": "code",
   "execution_count": 10,
   "metadata": {
    "collapsed": false
   },
   "outputs": [
    {
     "data": {
      "text/html": [
       "<div style=\"max-height:1000px;max-width:1500px;overflow:auto;\">\n",
       "<table border=\"1\" class=\"dataframe\">\n",
       "  <thead>\n",
       "    <tr style=\"text-align: right;\">\n",
       "      <th></th>\n",
       "      <th>Date</th>\n",
       "      <th>Score Type</th>\n",
       "      <th>Visitor Team</th>\n",
       "      <th>VisitorPts</th>\n",
       "      <th>Home Team</th>\n",
       "      <th>HomePts</th>\n",
       "      <th>OT?</th>\n",
       "      <th>Notes</th>\n",
       "      <th>HomeWin</th>\n",
       "      <th>HomeLastWin</th>\n",
       "      <th>VisitorLastWin</th>\n",
       "    </tr>\n",
       "  </thead>\n",
       "  <tbody>\n",
       "    <tr>\n",
       "      <th>0</th>\n",
       "      <td>2013-10-29</td>\n",
       "      <td> Box Score</td>\n",
       "      <td>        Orlando Magic</td>\n",
       "      <td>  87</td>\n",
       "      <td>      Indiana Pacers</td>\n",
       "      <td>  97</td>\n",
       "      <td> NaN</td>\n",
       "      <td> NaN</td>\n",
       "      <td> True</td>\n",
       "      <td> False</td>\n",
       "      <td> False</td>\n",
       "    </tr>\n",
       "    <tr>\n",
       "      <th>1</th>\n",
       "      <td>2013-10-29</td>\n",
       "      <td> Box Score</td>\n",
       "      <td> Los Angeles Clippers</td>\n",
       "      <td> 103</td>\n",
       "      <td>  Los Angeles Lakers</td>\n",
       "      <td> 116</td>\n",
       "      <td> NaN</td>\n",
       "      <td> NaN</td>\n",
       "      <td> True</td>\n",
       "      <td> False</td>\n",
       "      <td> False</td>\n",
       "    </tr>\n",
       "    <tr>\n",
       "      <th>2</th>\n",
       "      <td>2013-10-29</td>\n",
       "      <td> Box Score</td>\n",
       "      <td>        Chicago Bulls</td>\n",
       "      <td>  95</td>\n",
       "      <td>          Miami Heat</td>\n",
       "      <td> 107</td>\n",
       "      <td> NaN</td>\n",
       "      <td> NaN</td>\n",
       "      <td> True</td>\n",
       "      <td> False</td>\n",
       "      <td> False</td>\n",
       "    </tr>\n",
       "    <tr>\n",
       "      <th>3</th>\n",
       "      <td>2013-10-30</td>\n",
       "      <td> Box Score</td>\n",
       "      <td>        Brooklyn Nets</td>\n",
       "      <td>  94</td>\n",
       "      <td> Cleveland Cavaliers</td>\n",
       "      <td>  98</td>\n",
       "      <td> NaN</td>\n",
       "      <td> NaN</td>\n",
       "      <td> True</td>\n",
       "      <td> False</td>\n",
       "      <td> False</td>\n",
       "    </tr>\n",
       "    <tr>\n",
       "      <th>4</th>\n",
       "      <td>2013-10-30</td>\n",
       "      <td> Box Score</td>\n",
       "      <td>        Atlanta Hawks</td>\n",
       "      <td> 109</td>\n",
       "      <td>    Dallas Mavericks</td>\n",
       "      <td> 118</td>\n",
       "      <td> NaN</td>\n",
       "      <td> NaN</td>\n",
       "      <td> True</td>\n",
       "      <td> False</td>\n",
       "      <td> False</td>\n",
       "    </tr>\n",
       "    <tr>\n",
       "      <th>5</th>\n",
       "      <td>2013-10-30</td>\n",
       "      <td> Box Score</td>\n",
       "      <td>   Washington Wizards</td>\n",
       "      <td> 102</td>\n",
       "      <td>     Detroit Pistons</td>\n",
       "      <td> 113</td>\n",
       "      <td> NaN</td>\n",
       "      <td> NaN</td>\n",
       "      <td> True</td>\n",
       "      <td> False</td>\n",
       "      <td> False</td>\n",
       "    </tr>\n",
       "  </tbody>\n",
       "</table>\n",
       "</div>"
      ],
      "text/plain": [
       "        Date Score Type          Visitor Team  VisitorPts  \\\n",
       "0 2013-10-29  Box Score         Orlando Magic          87   \n",
       "1 2013-10-29  Box Score  Los Angeles Clippers         103   \n",
       "2 2013-10-29  Box Score         Chicago Bulls          95   \n",
       "3 2013-10-30  Box Score         Brooklyn Nets          94   \n",
       "4 2013-10-30  Box Score         Atlanta Hawks         109   \n",
       "5 2013-10-30  Box Score    Washington Wizards         102   \n",
       "\n",
       "             Home Team  HomePts  OT? Notes HomeWin HomeLastWin VisitorLastWin  \n",
       "0       Indiana Pacers       97  NaN   NaN    True       False          False  \n",
       "1   Los Angeles Lakers      116  NaN   NaN    True       False          False  \n",
       "2           Miami Heat      107  NaN   NaN    True       False          False  \n",
       "3  Cleveland Cavaliers       98  NaN   NaN    True       False          False  \n",
       "4     Dallas Mavericks      118  NaN   NaN    True       False          False  \n",
       "5      Detroit Pistons      113  NaN   NaN    True       False          False  "
      ]
     },
     "execution_count": 10,
     "metadata": {},
     "output_type": "execute_result"
    }
   ],
   "source": [
    "results[\"HomeLastWin\"] = False\n",
    "results[\"VisitorLastWin\"] = False\n",
    "# This creates two new columns, all set to False\n",
    "results.ix[:5]"
   ]
  },
  {
   "cell_type": "code",
   "execution_count": 11,
   "metadata": {
    "collapsed": false
   },
   "outputs": [
    {
     "data": {
      "text/html": [
       "<div style=\"max-height:1000px;max-width:1500px;overflow:auto;\">\n",
       "<table border=\"1\" class=\"dataframe\">\n",
       "  <thead>\n",
       "    <tr style=\"text-align: right;\">\n",
       "      <th></th>\n",
       "      <th>Date</th>\n",
       "      <th>Score Type</th>\n",
       "      <th>Visitor Team</th>\n",
       "      <th>VisitorPts</th>\n",
       "      <th>Home Team</th>\n",
       "      <th>HomePts</th>\n",
       "      <th>OT?</th>\n",
       "      <th>Notes</th>\n",
       "      <th>HomeWin</th>\n",
       "      <th>HomeLastWin</th>\n",
       "      <th>VisitorLastWin</th>\n",
       "    </tr>\n",
       "  </thead>\n",
       "  <tbody>\n",
       "    <tr>\n",
       "      <th>20</th>\n",
       "      <td>2013-11-01</td>\n",
       "      <td> Box Score</td>\n",
       "      <td>        Milwaukee Bucks</td>\n",
       "      <td> 105</td>\n",
       "      <td>     Boston Celtics</td>\n",
       "      <td>  98</td>\n",
       "      <td> NaN</td>\n",
       "      <td> NaN</td>\n",
       "      <td> False</td>\n",
       "      <td> False</td>\n",
       "      <td> False</td>\n",
       "    </tr>\n",
       "    <tr>\n",
       "      <th>21</th>\n",
       "      <td>2013-11-01</td>\n",
       "      <td> Box Score</td>\n",
       "      <td>             Miami Heat</td>\n",
       "      <td> 100</td>\n",
       "      <td>      Brooklyn Nets</td>\n",
       "      <td> 101</td>\n",
       "      <td> NaN</td>\n",
       "      <td> NaN</td>\n",
       "      <td>  True</td>\n",
       "      <td> False</td>\n",
       "      <td> False</td>\n",
       "    </tr>\n",
       "    <tr>\n",
       "      <th>22</th>\n",
       "      <td>2013-11-01</td>\n",
       "      <td> Box Score</td>\n",
       "      <td>    Cleveland Cavaliers</td>\n",
       "      <td>  84</td>\n",
       "      <td>  Charlotte Bobcats</td>\n",
       "      <td>  90</td>\n",
       "      <td> NaN</td>\n",
       "      <td> NaN</td>\n",
       "      <td>  True</td>\n",
       "      <td> False</td>\n",
       "      <td>  True</td>\n",
       "    </tr>\n",
       "    <tr>\n",
       "      <th>23</th>\n",
       "      <td>2013-11-01</td>\n",
       "      <td> Box Score</td>\n",
       "      <td> Portland Trail Blazers</td>\n",
       "      <td> 113</td>\n",
       "      <td>     Denver Nuggets</td>\n",
       "      <td>  98</td>\n",
       "      <td> NaN</td>\n",
       "      <td> NaN</td>\n",
       "      <td> False</td>\n",
       "      <td> False</td>\n",
       "      <td> False</td>\n",
       "    </tr>\n",
       "    <tr>\n",
       "      <th>24</th>\n",
       "      <td>2013-11-01</td>\n",
       "      <td> Box Score</td>\n",
       "      <td>       Dallas Mavericks</td>\n",
       "      <td> 105</td>\n",
       "      <td>    Houston Rockets</td>\n",
       "      <td> 113</td>\n",
       "      <td> NaN</td>\n",
       "      <td> NaN</td>\n",
       "      <td>  True</td>\n",
       "      <td>  True</td>\n",
       "      <td>  True</td>\n",
       "    </tr>\n",
       "    <tr>\n",
       "      <th>25</th>\n",
       "      <td>2013-11-01</td>\n",
       "      <td> Box Score</td>\n",
       "      <td>      San Antonio Spurs</td>\n",
       "      <td>  91</td>\n",
       "      <td> Los Angeles Lakers</td>\n",
       "      <td>  85</td>\n",
       "      <td> NaN</td>\n",
       "      <td> NaN</td>\n",
       "      <td> False</td>\n",
       "      <td> False</td>\n",
       "      <td>  True</td>\n",
       "    </tr>\n",
       "  </tbody>\n",
       "</table>\n",
       "</div>"
      ],
      "text/plain": [
       "         Date Score Type            Visitor Team  VisitorPts  \\\n",
       "20 2013-11-01  Box Score         Milwaukee Bucks         105   \n",
       "21 2013-11-01  Box Score              Miami Heat         100   \n",
       "22 2013-11-01  Box Score     Cleveland Cavaliers          84   \n",
       "23 2013-11-01  Box Score  Portland Trail Blazers         113   \n",
       "24 2013-11-01  Box Score        Dallas Mavericks         105   \n",
       "25 2013-11-01  Box Score       San Antonio Spurs          91   \n",
       "\n",
       "             Home Team  HomePts  OT? Notes HomeWin HomeLastWin VisitorLastWin  \n",
       "20      Boston Celtics       98  NaN   NaN   False       False          False  \n",
       "21       Brooklyn Nets      101  NaN   NaN    True       False          False  \n",
       "22   Charlotte Bobcats       90  NaN   NaN    True       False           True  \n",
       "23      Denver Nuggets       98  NaN   NaN   False       False          False  \n",
       "24     Houston Rockets      113  NaN   NaN    True        True           True  \n",
       "25  Los Angeles Lakers       85  NaN   NaN   False       False           True  "
      ]
     },
     "execution_count": 11,
     "metadata": {},
     "output_type": "execute_result"
    }
   ],
   "source": [
    "# Now compute the actual values for these\n",
    "# Did the home and visitor teams win their last game?\n",
    "from collections import defaultdict\n",
    "won_last = defaultdict(int)\n",
    "\n",
    "for index, row in results.iterrows():  # Note that this is not efficient\n",
    "    home_team = row[\"Home Team\"]\n",
    "    visitor_team = row[\"Visitor Team\"]\n",
    "    row[\"HomeLastWin\"] = won_last[home_team]\n",
    "    row[\"VisitorLastWin\"] = won_last[visitor_team]\n",
    "    results.ix[index] = row    \n",
    "    # Set current win\n",
    "    won_last[home_team] = row[\"HomeWin\"]\n",
    "    won_last[visitor_team] = not row[\"HomeWin\"]\n",
    "results.ix[20:25]"
   ]
  },
  {
   "cell_type": "code",
   "execution_count": 12,
   "metadata": {
    "collapsed": false
   },
   "outputs": [],
   "source": [
    "from sklearn.tree import DecisionTreeClassifier\n",
    "clf = DecisionTreeClassifier(random_state=14)"
   ]
  },
  {
   "cell_type": "code",
   "execution_count": 13,
   "metadata": {
    "collapsed": false
   },
   "outputs": [
    {
     "name": "stdout",
     "output_type": "stream",
     "text": [
      "Using just the last result from the home and visitor teams\n",
      "Accuracy: 57.8%\n"
     ]
    }
   ],
   "source": [
    "from sklearn.cross_validation import cross_val_score\n",
    "\n",
    "# Create a dataset with just the neccessary information\n",
    "X_previouswins = results[[\"HomeLastWin\", \"VisitorLastWin\"]].values\n",
    "clf = DecisionTreeClassifier(random_state=14)\n",
    "scores = cross_val_score(clf, X_previouswins, y_true, scoring='accuracy')\n",
    "print(\"Using just the last result from the home and visitor teams\")\n",
    "print(\"Accuracy: {0:.1f}%\".format(np.mean(scores) * 100))"
   ]
  },
  {
   "cell_type": "code",
   "execution_count": 14,
   "metadata": {
    "collapsed": false
   },
   "outputs": [],
   "source": [
    "# What about win streaks?\n",
    "results[\"HomeWinStreak\"] = 0\n",
    "results[\"VisitorWinStreak\"] = 0\n",
    "# Did the home and visitor teams win their last game?\n",
    "from collections import defaultdict\n",
    "win_streak = defaultdict(int)\n",
    "\n",
    "for index, row in results.iterrows():  # Note that this is not efficient\n",
    "    home_team = row[\"Home Team\"]\n",
    "    visitor_team = row[\"Visitor Team\"]\n",
    "    row[\"HomeWinStreak\"] = win_streak[home_team]\n",
    "    row[\"VisitorWinStreak\"] = win_streak[visitor_team]\n",
    "    results.ix[index] = row    \n",
    "    # Set current win\n",
    "    if row[\"HomeWin\"]:\n",
    "        win_streak[home_team] += 1\n",
    "        win_streak[visitor_team] = 0\n",
    "    else:\n",
    "        win_streak[home_team] = 0\n",
    "        win_streak[visitor_team] += 1"
   ]
  },
  {
   "cell_type": "code",
   "execution_count": 15,
   "metadata": {
    "collapsed": false
   },
   "outputs": [
    {
     "name": "stdout",
     "output_type": "stream",
     "text": [
      "Using whether the home team is ranked higher\n",
      "Accuracy: 56.1%\n"
     ]
    }
   ],
   "source": [
    "clf = DecisionTreeClassifier(random_state=14)\n",
    "X_winstreak =  results[[\"HomeLastWin\", \"VisitorLastWin\", \"HomeWinStreak\", \"VisitorWinStreak\"]].values\n",
    "scores = cross_val_score(clf, X_winstreak, y_true, scoring='accuracy')\n",
    "print(\"Using whether the home team is ranked higher\")\n",
    "print(\"Accuracy: {0:.1f}%\".format(np.mean(scores) * 100))"
   ]
  },
  {
   "cell_type": "code",
   "execution_count": 16,
   "metadata": {
    "collapsed": false
   },
   "outputs": [
    {
     "ename": "OSError",
     "evalue": "File b'/home/bob/Data/basketball/leagues_NBA_2013_standings_expanded-standings.csv' does not exist",
     "output_type": "error",
     "traceback": [
      "\u001b[1;31m---------------------------------------------------------------------------\u001b[0m",
      "\u001b[1;31mOSError\u001b[0m                                   Traceback (most recent call last)",
      "\u001b[1;32m<ipython-input-16-99eb6367afb3>\u001b[0m in \u001b[0;36m<module>\u001b[1;34m()\u001b[0m\n\u001b[0;32m      1\u001b[0m \u001b[1;31m# Let's try see which team is better on the ladder. Using the previous year's ladder\u001b[0m\u001b[1;33m\u001b[0m\u001b[1;33m\u001b[0m\u001b[0m\n\u001b[0;32m      2\u001b[0m \u001b[0mladder_filename\u001b[0m \u001b[1;33m=\u001b[0m \u001b[0mos\u001b[0m\u001b[1;33m.\u001b[0m\u001b[0mpath\u001b[0m\u001b[1;33m.\u001b[0m\u001b[0mjoin\u001b[0m\u001b[1;33m(\u001b[0m\u001b[0mdata_folder\u001b[0m\u001b[1;33m,\u001b[0m \u001b[1;34m\"leagues_NBA_2013_standings_expanded-standings.csv\"\u001b[0m\u001b[1;33m)\u001b[0m\u001b[1;33m\u001b[0m\u001b[0m\n\u001b[1;32m----> 3\u001b[1;33m \u001b[0mladder\u001b[0m \u001b[1;33m=\u001b[0m \u001b[0mpd\u001b[0m\u001b[1;33m.\u001b[0m\u001b[0mread_csv\u001b[0m\u001b[1;33m(\u001b[0m\u001b[0mladder_filename\u001b[0m\u001b[1;33m,\u001b[0m \u001b[0mskiprows\u001b[0m\u001b[1;33m=\u001b[0m\u001b[1;33m[\u001b[0m\u001b[1;36m0\u001b[0m\u001b[1;33m,\u001b[0m\u001b[1;36m1\u001b[0m\u001b[1;33m]\u001b[0m\u001b[1;33m)\u001b[0m\u001b[1;33m\u001b[0m\u001b[0m\n\u001b[0m\u001b[0;32m      4\u001b[0m \u001b[0mladder\u001b[0m\u001b[1;33m\u001b[0m\u001b[0m\n",
      "\u001b[1;32m/usr/local/lib/python3.4/dist-packages/pandas/io/parsers.py\u001b[0m in \u001b[0;36mparser_f\u001b[1;34m(filepath_or_buffer, sep, dialect, compression, doublequote, escapechar, quotechar, quoting, skipinitialspace, lineterminator, header, index_col, names, prefix, skiprows, skipfooter, skip_footer, na_values, na_fvalues, true_values, false_values, delimiter, converters, dtype, usecols, engine, delim_whitespace, as_recarray, na_filter, compact_ints, use_unsigned, low_memory, buffer_lines, warn_bad_lines, error_bad_lines, keep_default_na, thousands, comment, decimal, parse_dates, keep_date_col, dayfirst, date_parser, memory_map, nrows, iterator, chunksize, verbose, encoding, squeeze, mangle_dupe_cols, tupleize_cols, infer_datetime_format)\u001b[0m\n\u001b[0;32m    441\u001b[0m                     infer_datetime_format=infer_datetime_format)\n\u001b[0;32m    442\u001b[0m \u001b[1;33m\u001b[0m\u001b[0m\n\u001b[1;32m--> 443\u001b[1;33m         \u001b[1;32mreturn\u001b[0m \u001b[0m_read\u001b[0m\u001b[1;33m(\u001b[0m\u001b[0mfilepath_or_buffer\u001b[0m\u001b[1;33m,\u001b[0m \u001b[0mkwds\u001b[0m\u001b[1;33m)\u001b[0m\u001b[1;33m\u001b[0m\u001b[0m\n\u001b[0m\u001b[0;32m    444\u001b[0m \u001b[1;33m\u001b[0m\u001b[0m\n\u001b[0;32m    445\u001b[0m     \u001b[0mparser_f\u001b[0m\u001b[1;33m.\u001b[0m\u001b[0m__name__\u001b[0m \u001b[1;33m=\u001b[0m \u001b[0mname\u001b[0m\u001b[1;33m\u001b[0m\u001b[0m\n",
      "\u001b[1;32m/usr/local/lib/python3.4/dist-packages/pandas/io/parsers.py\u001b[0m in \u001b[0;36m_read\u001b[1;34m(filepath_or_buffer, kwds)\u001b[0m\n\u001b[0;32m    226\u001b[0m \u001b[1;33m\u001b[0m\u001b[0m\n\u001b[0;32m    227\u001b[0m     \u001b[1;31m# Create the parser.\u001b[0m\u001b[1;33m\u001b[0m\u001b[1;33m\u001b[0m\u001b[0m\n\u001b[1;32m--> 228\u001b[1;33m     \u001b[0mparser\u001b[0m \u001b[1;33m=\u001b[0m \u001b[0mTextFileReader\u001b[0m\u001b[1;33m(\u001b[0m\u001b[0mfilepath_or_buffer\u001b[0m\u001b[1;33m,\u001b[0m \u001b[1;33m**\u001b[0m\u001b[0mkwds\u001b[0m\u001b[1;33m)\u001b[0m\u001b[1;33m\u001b[0m\u001b[0m\n\u001b[0m\u001b[0;32m    229\u001b[0m \u001b[1;33m\u001b[0m\u001b[0m\n\u001b[0;32m    230\u001b[0m     \u001b[1;32mif\u001b[0m \u001b[0mnrows\u001b[0m \u001b[1;32mis\u001b[0m \u001b[1;32mnot\u001b[0m \u001b[1;32mNone\u001b[0m\u001b[1;33m:\u001b[0m\u001b[1;33m\u001b[0m\u001b[0m\n",
      "\u001b[1;32m/usr/local/lib/python3.4/dist-packages/pandas/io/parsers.py\u001b[0m in \u001b[0;36m__init__\u001b[1;34m(self, f, engine, **kwds)\u001b[0m\n\u001b[0;32m    531\u001b[0m             \u001b[0mself\u001b[0m\u001b[1;33m.\u001b[0m\u001b[0moptions\u001b[0m\u001b[1;33m[\u001b[0m\u001b[1;34m'has_index_names'\u001b[0m\u001b[1;33m]\u001b[0m \u001b[1;33m=\u001b[0m \u001b[0mkwds\u001b[0m\u001b[1;33m[\u001b[0m\u001b[1;34m'has_index_names'\u001b[0m\u001b[1;33m]\u001b[0m\u001b[1;33m\u001b[0m\u001b[0m\n\u001b[0;32m    532\u001b[0m \u001b[1;33m\u001b[0m\u001b[0m\n\u001b[1;32m--> 533\u001b[1;33m         \u001b[0mself\u001b[0m\u001b[1;33m.\u001b[0m\u001b[0m_make_engine\u001b[0m\u001b[1;33m(\u001b[0m\u001b[0mself\u001b[0m\u001b[1;33m.\u001b[0m\u001b[0mengine\u001b[0m\u001b[1;33m)\u001b[0m\u001b[1;33m\u001b[0m\u001b[0m\n\u001b[0m\u001b[0;32m    534\u001b[0m \u001b[1;33m\u001b[0m\u001b[0m\n\u001b[0;32m    535\u001b[0m     \u001b[1;32mdef\u001b[0m \u001b[0m_get_options_with_defaults\u001b[0m\u001b[1;33m(\u001b[0m\u001b[0mself\u001b[0m\u001b[1;33m,\u001b[0m \u001b[0mengine\u001b[0m\u001b[1;33m)\u001b[0m\u001b[1;33m:\u001b[0m\u001b[1;33m\u001b[0m\u001b[0m\n",
      "\u001b[1;32m/usr/local/lib/python3.4/dist-packages/pandas/io/parsers.py\u001b[0m in \u001b[0;36m_make_engine\u001b[1;34m(self, engine)\u001b[0m\n\u001b[0;32m    668\u001b[0m     \u001b[1;32mdef\u001b[0m \u001b[0m_make_engine\u001b[0m\u001b[1;33m(\u001b[0m\u001b[0mself\u001b[0m\u001b[1;33m,\u001b[0m \u001b[0mengine\u001b[0m\u001b[1;33m=\u001b[0m\u001b[1;34m'c'\u001b[0m\u001b[1;33m)\u001b[0m\u001b[1;33m:\u001b[0m\u001b[1;33m\u001b[0m\u001b[0m\n\u001b[0;32m    669\u001b[0m         \u001b[1;32mif\u001b[0m \u001b[0mengine\u001b[0m \u001b[1;33m==\u001b[0m \u001b[1;34m'c'\u001b[0m\u001b[1;33m:\u001b[0m\u001b[1;33m\u001b[0m\u001b[0m\n\u001b[1;32m--> 670\u001b[1;33m             \u001b[0mself\u001b[0m\u001b[1;33m.\u001b[0m\u001b[0m_engine\u001b[0m \u001b[1;33m=\u001b[0m \u001b[0mCParserWrapper\u001b[0m\u001b[1;33m(\u001b[0m\u001b[0mself\u001b[0m\u001b[1;33m.\u001b[0m\u001b[0mf\u001b[0m\u001b[1;33m,\u001b[0m \u001b[1;33m**\u001b[0m\u001b[0mself\u001b[0m\u001b[1;33m.\u001b[0m\u001b[0moptions\u001b[0m\u001b[1;33m)\u001b[0m\u001b[1;33m\u001b[0m\u001b[0m\n\u001b[0m\u001b[0;32m    671\u001b[0m         \u001b[1;32melse\u001b[0m\u001b[1;33m:\u001b[0m\u001b[1;33m\u001b[0m\u001b[0m\n\u001b[0;32m    672\u001b[0m             \u001b[1;32mif\u001b[0m \u001b[0mengine\u001b[0m \u001b[1;33m==\u001b[0m \u001b[1;34m'python'\u001b[0m\u001b[1;33m:\u001b[0m\u001b[1;33m\u001b[0m\u001b[0m\n",
      "\u001b[1;32m/usr/local/lib/python3.4/dist-packages/pandas/io/parsers.py\u001b[0m in \u001b[0;36m__init__\u001b[1;34m(self, src, **kwds)\u001b[0m\n\u001b[0;32m   1030\u001b[0m         \u001b[0mkwds\u001b[0m\u001b[1;33m[\u001b[0m\u001b[1;34m'allow_leading_cols'\u001b[0m\u001b[1;33m]\u001b[0m \u001b[1;33m=\u001b[0m \u001b[0mself\u001b[0m\u001b[1;33m.\u001b[0m\u001b[0mindex_col\u001b[0m \u001b[1;32mis\u001b[0m \u001b[1;32mnot\u001b[0m \u001b[1;32mFalse\u001b[0m\u001b[1;33m\u001b[0m\u001b[0m\n\u001b[0;32m   1031\u001b[0m \u001b[1;33m\u001b[0m\u001b[0m\n\u001b[1;32m-> 1032\u001b[1;33m         \u001b[0mself\u001b[0m\u001b[1;33m.\u001b[0m\u001b[0m_reader\u001b[0m \u001b[1;33m=\u001b[0m \u001b[0m_parser\u001b[0m\u001b[1;33m.\u001b[0m\u001b[0mTextReader\u001b[0m\u001b[1;33m(\u001b[0m\u001b[0msrc\u001b[0m\u001b[1;33m,\u001b[0m \u001b[1;33m**\u001b[0m\u001b[0mkwds\u001b[0m\u001b[1;33m)\u001b[0m\u001b[1;33m\u001b[0m\u001b[0m\n\u001b[0m\u001b[0;32m   1033\u001b[0m \u001b[1;33m\u001b[0m\u001b[0m\n\u001b[0;32m   1034\u001b[0m         \u001b[1;31m# XXX\u001b[0m\u001b[1;33m\u001b[0m\u001b[1;33m\u001b[0m\u001b[0m\n",
      "\u001b[1;32mparser.pyx\u001b[0m in \u001b[0;36mpandas.parser.TextReader.__cinit__ (pandas/parser.c:2966)\u001b[1;34m()\u001b[0m\n",
      "\u001b[1;32mparser.pyx\u001b[0m in \u001b[0;36mpandas.parser.TextReader._setup_parser_source (pandas/parser.c:5328)\u001b[1;34m()\u001b[0m\n",
      "\u001b[1;31mOSError\u001b[0m: File b'/home/bob/Data/basketball/leagues_NBA_2013_standings_expanded-standings.csv' does not exist"
     ]
    }
   ],
   "source": [
    "# Let's try see which team is better on the ladder. Using the previous year's ladder\n",
    "ladder_filename = os.path.join(data_folder, \"leagues_NBA_2013_standings_expanded-standings.csv\")\n",
    "ladder = pd.read_csv(ladder_filename, skiprows=[0,1])\n",
    "ladder"
   ]
  },
  {
   "cell_type": "code",
   "execution_count": null,
   "metadata": {
    "collapsed": false
   },
   "outputs": [],
   "source": [
    "# We can create a new feature -- HomeTeamRanksHigher\\\n",
    "results[\"HomeTeamRanksHigher\"] = 0\n",
    "for index, row in results.iterrows():\n",
    "    home_team = row[\"Home Team\"]\n",
    "    visitor_team = row[\"Visitor Team\"]\n",
    "    if home_team == \"New Orleans Pelicans\":\n",
    "        home_team = \"New Orleans Hornets\"\n",
    "    elif visitor_team == \"New Orleans Pelicans\":\n",
    "        visitor_team = \"New Orleans Hornets\"\n",
    "    home_rank = ladder[ladder[\"Team\"] == home_team][\"Rk\"].values[0]\n",
    "    visitor_rank = ladder[ladder[\"Team\"] == visitor_team][\"Rk\"].values[0]\n",
    "    row[\"HomeTeamRanksHigher\"] = int(home_rank > visitor_rank)\n",
    "    results.ix[index] = row\n",
    "results[:5]"
   ]
  },
  {
   "cell_type": "code",
   "execution_count": null,
   "metadata": {
    "collapsed": false
   },
   "outputs": [],
   "source": [
    "X_homehigher =  results[[\"HomeLastWin\", \"VisitorLastWin\", \"HomeTeamRanksHigher\"]].values\n",
    "clf = DecisionTreeClassifier(random_state=14)\n",
    "scores = cross_val_score(clf, X_homehigher, y_true, scoring='accuracy')\n",
    "print(\"Using whether the home team is ranked higher\")\n",
    "print(\"Accuracy: {0:.1f}%\".format(np.mean(scores) * 100))"
   ]
  },
  {
   "cell_type": "code",
   "execution_count": null,
   "metadata": {
    "collapsed": false
   },
   "outputs": [],
   "source": [
    "from sklearn.grid_search import GridSearchCV\n",
    "\n",
    "parameter_space = {\n",
    "                   \"max_depth\": [1, 2, 3, 4, 5, 6, 7, 8, 9, 10, 11, 12, 13, 14, 15, 16, 17, 18, 19, 20],\n",
    "                   }\n",
    "clf = DecisionTreeClassifier(random_state=14)\n",
    "grid = GridSearchCV(clf, parameter_space)\n",
    "grid.fit(X_homehigher, y_true)\n",
    "print(\"Accuracy: {0:.1f}%\".format(grid.best_score_ * 100))"
   ]
  },
  {
   "cell_type": "code",
   "execution_count": null,
   "metadata": {
    "collapsed": false
   },
   "outputs": [],
   "source": [
    "# Who won the last match? We ignore home/visitor for this bit\n",
    "last_match_winner = defaultdict(int)\n",
    "results[\"HomeTeamWonLast\"] = 0\n",
    "\n",
    "for index, row in results.iterrows():\n",
    "    home_team = row[\"Home Team\"]\n",
    "    visitor_team = row[\"Visitor Team\"]\n",
    "    teams = tuple(sorted([home_team, visitor_team]))  # Sort for a consistent ordering\n",
    "    # Set in the row, who won the last encounter\n",
    "    row[\"HomeTeamWonLast\"] = 1 if last_match_winner[teams] == row[\"Home Team\"] else 0\n",
    "    results.ix[index] = row\n",
    "    # Who won this one?\n",
    "    winner = row[\"Home Team\"] if row[\"HomeWin\"] else row[\"Visitor Team\"]\n",
    "    last_match_winner[teams] = winner\n",
    "results.ix[:5]"
   ]
  },
  {
   "cell_type": "code",
   "execution_count": null,
   "metadata": {
    "collapsed": false
   },
   "outputs": [],
   "source": [
    "X_home_higher =  results[[\"HomeTeamRanksHigher\", \"HomeTeamWonLast\"]].values\n",
    "clf = DecisionTreeClassifier(random_state=14)\n",
    "scores = cross_val_score(clf, X_home_higher, y_true, scoring='accuracy')\n",
    "print(\"Using whether the home team is ranked higher\")\n",
    "print(\"Accuracy: {0:.1f}%\".format(np.mean(scores) * 100))\n"
   ]
  },
  {
   "cell_type": "code",
   "execution_count": null,
   "metadata": {
    "collapsed": false
   },
   "outputs": [],
   "source": [
    "from sklearn.preprocessing import LabelEncoder, OneHotEncoder\n",
    "encoding = LabelEncoder()\n",
    "encoding.fit(results[\"Home Team\"].values)\n",
    "home_teams = encoding.transform(results[\"Home Team\"].values)\n",
    "visitor_teams = encoding.transform(results[\"Visitor Team\"].values)\n",
    "X_teams = np.vstack([home_teams, visitor_teams]).T\n",
    "\n",
    "onehot = OneHotEncoder()\n",
    "X_teams = onehot.fit_transform(X_teams).todense()\n",
    "\n",
    "clf = DecisionTreeClassifier(random_state=14)\n",
    "scores = cross_val_score(clf, X_teams, y_true, scoring='accuracy')\n",
    "print(\"Accuracy: {0:.1f}%\".format(np.mean(scores) * 100))"
   ]
  },
  {
   "cell_type": "code",
   "execution_count": null,
   "metadata": {
    "collapsed": false
   },
   "outputs": [],
   "source": [
    "from sklearn.ensemble import RandomForestClassifier\n",
    "clf = RandomForestClassifier(random_state=14)\n",
    "scores = cross_val_score(clf, X_teams, y_true, scoring='accuracy')\n",
    "print(\"Using full team labels is ranked higher\")\n",
    "print(\"Accuracy: {0:.1f}%\".format(np.mean(scores) * 100))"
   ]
  },
  {
   "cell_type": "code",
   "execution_count": null,
   "metadata": {
    "collapsed": false
   },
   "outputs": [],
   "source": [
    "X_all = np.hstack([X_home_higher, X_teams])\n",
    "print(X_all.shape)"
   ]
  },
  {
   "cell_type": "code",
   "execution_count": null,
   "metadata": {
    "collapsed": false
   },
   "outputs": [],
   "source": [
    "clf = RandomForestClassifier(random_state=14)\n",
    "scores = cross_val_score(clf, X_all, y_true, scoring='accuracy')\n",
    "print(\"Using whether the home team is ranked higher\")\n",
    "print(\"Accuracy: {0:.1f}%\".format(np.mean(scores) * 100))"
   ]
  },
  {
   "cell_type": "code",
   "execution_count": null,
   "metadata": {
    "collapsed": false
   },
   "outputs": [],
   "source": [
    "#n_estimators=10, criterion='gini', max_depth=None, \n",
    "#min_samples_split=2, min_samples_leaf=1,\n",
    "#max_features='auto',\n",
    "#max_leaf_nodes=None, bootstrap=True,\n",
    "#oob_score=False, n_jobs=1,\n",
    "#random_state=None, verbose=0, min_density=None, compute_importances=None\n",
    "parameter_space = {\n",
    "                   \"max_features\": [2, 10, 'auto'],\n",
    "                   \"n_estimators\": [100,],\n",
    "                   \"criterion\": [\"gini\", \"entropy\"],\n",
    "                   \"min_samples_leaf\": [2, 4, 6],\n",
    "                   }\n",
    "clf = RandomForestClassifier(random_state=14)\n",
    "grid = GridSearchCV(clf, parameter_space)\n",
    "grid.fit(X_all, y_true)\n",
    "print(\"Accuracy: {0:.1f}%\".format(grid.best_score_ * 100))\n",
    "print(grid.best_estimator_)"
   ]
  },
  {
   "cell_type": "code",
   "execution_count": null,
   "metadata": {
    "collapsed": false
   },
   "outputs": [],
   "source": []
  }
 ],
 "metadata": {
  "kernelspec": {
   "display_name": "Python 3",
   "language": "python",
   "name": "python3"
  },
  "language_info": {
   "codemirror_mode": {
    "name": "ipython",
    "version": 3
   },
   "file_extension": ".py",
   "mimetype": "text/x-python",
   "name": "python",
   "nbconvert_exporter": "python",
   "pygments_lexer": "ipython3",
   "version": "3.4.0"
  }
 },
 "nbformat": 4,
 "nbformat_minor": 0
}
